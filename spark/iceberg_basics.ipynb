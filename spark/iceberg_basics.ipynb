{
 "cells": [
  {
   "cell_type": "code",
   "execution_count": null,
   "id": "e99d50ec",
   "metadata": {},
   "outputs": [],
   "source": [
    "!pip install pyspark"
   ]
  },
  {
   "cell_type": "code",
   "execution_count": 2,
   "id": "9d9a3af8",
   "metadata": {},
   "outputs": [],
   "source": [
    "import sys\n",
    "import os\n",
    "\n",
    "sys.path.append(\"/workspace/seed\")"
   ]
  },
  {
   "cell_type": "code",
   "execution_count": null,
   "id": "b3c77d34-e043-4381-83e6-993b70310013",
   "metadata": {},
   "outputs": [],
   "source": [
    "from pyspark.sql.types import StructType, StructField, IntegerType, StringType, DoubleType\n",
    "from pyspark.sql import SparkSession\n",
    "import pyspark\n",
    "\n",
    "from seed.iceberg_setup import conf\n",
    "\n",
    "## Start Spark Session\n",
    "spark: SparkSession = SparkSession.builder.config(conf=conf).getOrCreate()\n",
    "print(\"Spark Running\")\n",
    "\n",
    "spark.sql(\"DROP NAMESPACE IF EXISTS nessie.dev;\")\n",
    "\n",
    "spark.sql(\"CREATE NAMESPACE nessie.dev;\")\n",
    "\n",
    "spark.sql(\"SHOW NAMESPACES FROM nessie\").show()"
   ]
  },
  {
   "cell_type": "code",
   "execution_count": null,
   "id": "24fedce9",
   "metadata": {},
   "outputs": [],
   "source": [
    "## Create a Table\n",
    "spark.sql(\"CREATE OR REPLACE TABLE nessie.dev.names (name STRING) USING iceberg;\")\n",
    "\n",
    "## Insert Some Data\n",
    "spark.sql(\"INSERT INTO nessie.dev.names VALUES ('Test');\")\n",
    "\n",
    "## Query the Data\n",
    "spark.sql(\"SELECT * FROM nessie.dev.names;\").show()\n",
    "\n",
    "spark.sql(\"SHOW TABLES FROM nessie;\").show()\n",
    "\n",
    "spark.sql(\"DROP TABLE nessie.dev.names PURGE;\")"
   ]
  },
  {
   "cell_type": "code",
   "execution_count": null,
   "id": "ab3143b4-0a1c-4905-ad08-fc20f35eed25",
   "metadata": {},
   "outputs": [],
   "source": [
    "df = spark.read.parquet(\"s3a://seed/flights-1m.parquet\")\n",
    "df.show(5)\n",
    "\n",
    "df.printSchema()\n",
    "\n",
    "df.createOrReplaceTempView(\"raw_flights\")"
   ]
  },
  {
   "cell_type": "code",
   "execution_count": null,
   "id": "a38babac",
   "metadata": {},
   "outputs": [],
   "source": [
    "spark.sql(\"SELECT * FROM raw_flights LIMIT 10;\").show()"
   ]
  },
  {
   "cell_type": "code",
   "execution_count": null,
   "id": "7cfd12cc",
   "metadata": {},
   "outputs": [],
   "source": [
    "spark.sql(\"\"\"\n",
    "    SELECT\n",
    "        MIN(FL_DATE) AS min_date,\n",
    "        MAX(FL_DATE) AS max_date,\n",
    "        COUNT(*) AS num_rows\n",
    "    FROM raw_flights;\n",
    "\"\"\").show()\n",
    "\n",
    "spark.sql(\"\"\"\n",
    "    SELECT\n",
    "        FL_DATE,\n",
    "        COUNT(*) AS num_rows\n",
    "    FROM raw_flights\n",
    "    GROUP BY FL_DATE\n",
    "    ORDER BY FL_DATE\n",
    "    LIMIT 10;\n",
    "\"\"\").show()"
   ]
  },
  {
   "cell_type": "code",
   "execution_count": null,
   "id": "e36fbfb6",
   "metadata": {},
   "outputs": [],
   "source": [
    "spark.sql(\"\"\"\n",
    "    CREATE TABLE IF NOT EXISTS nessie.dev.flights \n",
    "    USING iceberg\n",
    "    PARTITIONED BY (fl_date)\n",
    "    AS\n",
    "    SELECT\n",
    "        *\n",
    "    FROM raw_flights;\n",
    "\"\"\")\n",
    "\n",
    "spark.sql(\"SELECT * FROM nessie.dev.flights LIMIT 5;\").show()"
   ]
  },
  {
   "cell_type": "code",
   "execution_count": null,
   "id": "80286ebc",
   "metadata": {},
   "outputs": [],
   "source": [
    "spark.sql(\"SELECT * FROM nessie.dev.flights.files;\").show()"
   ]
  },
  {
   "cell_type": "code",
   "execution_count": null,
   "id": "db34e8fe",
   "metadata": {},
   "outputs": [],
   "source": [
    "spark.sql(\"\"\"\n",
    "    SELECT \n",
    "        SUM(file_size_in_bytes) AS table_size_in_bytes,\n",
    "        COUNT(partition) AS num_partitions,\n",
    "        SUM(record_count) AS num_rows\n",
    "    FROM nessie.dev.flights.files;\n",
    "\"\"\").show()"
   ]
  },
  {
   "cell_type": "code",
   "execution_count": null,
   "id": "bdde82a4",
   "metadata": {},
   "outputs": [],
   "source": [
    "spark.sql(\"\").show()"
   ]
  },
  {
   "cell_type": "code",
   "execution_count": null,
   "id": "2ba93cd3",
   "metadata": {},
   "outputs": [],
   "source": [
    "spark.sql(\"\").show()"
   ]
  },
  {
   "cell_type": "code",
   "execution_count": null,
   "id": "67fc716d",
   "metadata": {},
   "outputs": [],
   "source": [
    "spark.sql(\"\").show()"
   ]
  },
  {
   "cell_type": "code",
   "execution_count": null,
   "id": "672850f8",
   "metadata": {},
   "outputs": [],
   "source": [
    "spark.sql(\"\").show()"
   ]
  },
  {
   "cell_type": "code",
   "execution_count": null,
   "id": "3be57f08",
   "metadata": {},
   "outputs": [],
   "source": [
    "spark.sql(\"\").show()"
   ]
  },
  {
   "cell_type": "code",
   "execution_count": null,
   "id": "1cb78447",
   "metadata": {},
   "outputs": [],
   "source": [
    "spark.sql(\"\").show()"
   ]
  },
  {
   "cell_type": "code",
   "execution_count": null,
   "id": "563556b8",
   "metadata": {},
   "outputs": [],
   "source": [
    "spark.sql(\"\").show()"
   ]
  },
  {
   "cell_type": "code",
   "execution_count": null,
   "id": "190c82c0",
   "metadata": {},
   "outputs": [],
   "source": [
    "spark.sql(\"\").show()"
   ]
  },
  {
   "cell_type": "code",
   "execution_count": null,
   "id": "87df3a2e",
   "metadata": {},
   "outputs": [],
   "source": [
    "spark.sql(\"\").show()"
   ]
  },
  {
   "cell_type": "code",
   "execution_count": null,
   "id": "d5f88822",
   "metadata": {},
   "outputs": [],
   "source": [
    "spark.sql(\"\").show()"
   ]
  },
  {
   "cell_type": "code",
   "execution_count": null,
   "id": "27b3cc77",
   "metadata": {},
   "outputs": [],
   "source": [
    "spark.sql(\"\").show()"
   ]
  },
  {
   "cell_type": "code",
   "execution_count": null,
   "id": "fa34b59a",
   "metadata": {},
   "outputs": [],
   "source": [
    "spark.sql(\"\").show()"
   ]
  },
  {
   "cell_type": "code",
   "execution_count": null,
   "id": "dd5d1a50",
   "metadata": {},
   "outputs": [],
   "source": [
    "spark.sql(\"\").show()"
   ]
  },
  {
   "cell_type": "code",
   "execution_count": null,
   "id": "a423b064",
   "metadata": {},
   "outputs": [],
   "source": [
    "# spark.sql(\"DROP TABLE nessie.dev.flights PURGE;\")"
   ]
  },
  {
   "cell_type": "code",
   "execution_count": null,
   "id": "71448e9d",
   "metadata": {},
   "outputs": [],
   "source": []
  }
 ],
 "metadata": {
  "kernelspec": {
   "display_name": "Python 3 (ipykernel)",
   "language": "python",
   "name": "python3"
  },
  "language_info": {
   "codemirror_mode": {
    "name": "ipython",
    "version": 3
   },
   "file_extension": ".py",
   "mimetype": "text/x-python",
   "name": "python",
   "nbconvert_exporter": "python",
   "pygments_lexer": "ipython3",
   "version": "3.10.12"
  }
 },
 "nbformat": 4,
 "nbformat_minor": 5
}
