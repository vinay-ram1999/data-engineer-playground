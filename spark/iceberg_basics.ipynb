{
 "cells": [
  {
   "cell_type": "code",
   "execution_count": 1,
   "id": "792a9c7c",
   "metadata": {},
   "outputs": [
    {
     "name": "stderr",
     "output_type": "stream",
     "text": [
      "Warning: Ignoring non-Spark config property: iceberg.expire.tables.gc.enabled\n"
     ]
    },
    {
     "name": "stdout",
     "output_type": "stream",
     "text": [
      ":: loading settings :: url = jar:file:/opt/spark/jars/ivy-2.5.1.jar!/org/apache/ivy/core/settings/ivysettings.xml\n"
     ]
    },
    {
     "name": "stderr",
     "output_type": "stream",
     "text": [
      "Ivy Default Cache set to: /root/.ivy2/cache\n",
      "The jars for the packages stored in: /root/.ivy2/jars\n",
      "org.apache.iceberg#iceberg-spark-runtime-3.5_2.12 added as a dependency\n",
      "org.projectnessie.nessie-integrations#nessie-spark-extensions-3.5_2.12 added as a dependency\n",
      "software.amazon.awssdk#bundle added as a dependency\n",
      "software.amazon.awssdk#url-connection-client added as a dependency\n",
      "org.slf4j#slf4j-simple added as a dependency\n",
      "org.apache.hadoop#hadoop-aws added as a dependency\n",
      "com.amazonaws#aws-java-sdk-bundle added as a dependency\n",
      ":: resolving dependencies :: org.apache.spark#spark-submit-parent-1e2f21ef-4997-4db6-a580-0fe9efac10e2;1.0\n",
      "\tconfs: [default]\n",
      "\tfound org.apache.iceberg#iceberg-spark-runtime-3.5_2.12;1.4.2 in central\n",
      "\tfound org.projectnessie.nessie-integrations#nessie-spark-extensions-3.5_2.12;0.83.1 in central\n",
      "\tfound software.amazon.awssdk#bundle;2.17.178 in central\n",
      "\tfound software.amazon.eventstream#eventstream;1.0.1 in central\n",
      "\tfound software.amazon.awssdk#url-connection-client;2.17.178 in central\n",
      "\tfound software.amazon.awssdk#utils;2.17.178 in central\n",
      "\tfound org.reactivestreams#reactive-streams;1.0.3 in central\n",
      "\tfound software.amazon.awssdk#annotations;2.17.178 in central\n",
      "\tfound org.slf4j#slf4j-api;1.7.30 in central\n",
      "\tfound software.amazon.awssdk#http-client-spi;2.17.178 in central\n",
      "\tfound software.amazon.awssdk#metrics-spi;2.17.178 in central\n",
      "\tfound org.slf4j#slf4j-simple;2.0.7 in central\n",
      "\tfound org.slf4j#slf4j-api;2.0.7 in central\n",
      "\tfound org.apache.hadoop#hadoop-aws;3.3.4 in central\n",
      "\tfound org.wildfly.openssl#wildfly-openssl;1.0.7.Final in central\n",
      "\tfound com.amazonaws#aws-java-sdk-bundle;1.12.365 in central\n",
      "downloading https://repo1.maven.org/maven2/org/apache/iceberg/iceberg-spark-runtime-3.5_2.12/1.4.2/iceberg-spark-runtime-3.5_2.12-1.4.2.jar ...\n",
      "\t[SUCCESSFUL ] org.apache.iceberg#iceberg-spark-runtime-3.5_2.12;1.4.2!iceberg-spark-runtime-3.5_2.12.jar (5885ms)\n",
      "downloading https://repo1.maven.org/maven2/org/projectnessie/nessie-integrations/nessie-spark-extensions-3.5_2.12/0.83.1/nessie-spark-extensions-3.5_2.12-0.83.1.jar ...\n",
      "\t[SUCCESSFUL ] org.projectnessie.nessie-integrations#nessie-spark-extensions-3.5_2.12;0.83.1!nessie-spark-extensions-3.5_2.12.jar (319ms)\n",
      "downloading https://repo1.maven.org/maven2/software/amazon/awssdk/bundle/2.17.178/bundle-2.17.178.jar ...\n",
      "\t[SUCCESSFUL ] software.amazon.awssdk#bundle;2.17.178!bundle.jar (53254ms)\n",
      "downloading https://repo1.maven.org/maven2/software/amazon/awssdk/url-connection-client/2.17.178/url-connection-client-2.17.178.jar ...\n",
      "\t[SUCCESSFUL ] software.amazon.awssdk#url-connection-client;2.17.178!url-connection-client.jar (118ms)\n",
      "downloading https://repo1.maven.org/maven2/org/slf4j/slf4j-simple/2.0.7/slf4j-simple-2.0.7.jar ...\n",
      "\t[SUCCESSFUL ] org.slf4j#slf4j-simple;2.0.7!slf4j-simple.jar (58ms)\n",
      "downloading https://repo1.maven.org/maven2/org/apache/hadoop/hadoop-aws/3.3.4/hadoop-aws-3.3.4.jar ...\n",
      "\t[SUCCESSFUL ] org.apache.hadoop#hadoop-aws;3.3.4!hadoop-aws.jar (247ms)\n",
      "downloading https://repo1.maven.org/maven2/com/amazonaws/aws-java-sdk-bundle/1.12.365/aws-java-sdk-bundle-1.12.365.jar ...\n",
      "\t[SUCCESSFUL ] com.amazonaws#aws-java-sdk-bundle;1.12.365!aws-java-sdk-bundle.jar (67848ms)\n",
      "downloading https://repo1.maven.org/maven2/software/amazon/eventstream/eventstream/1.0.1/eventstream-1.0.1.jar ...\n",
      "\t[SUCCESSFUL ] software.amazon.eventstream#eventstream;1.0.1!eventstream.jar (94ms)\n",
      "downloading https://repo1.maven.org/maven2/software/amazon/awssdk/utils/2.17.178/utils-2.17.178.jar ...\n",
      "\t[SUCCESSFUL ] software.amazon.awssdk#utils;2.17.178!utils.jar (83ms)\n",
      "downloading https://repo1.maven.org/maven2/software/amazon/awssdk/annotations/2.17.178/annotations-2.17.178.jar ...\n",
      "\t[SUCCESSFUL ] software.amazon.awssdk#annotations;2.17.178!annotations.jar (40ms)\n",
      "downloading https://repo1.maven.org/maven2/software/amazon/awssdk/http-client-spi/2.17.178/http-client-spi-2.17.178.jar ...\n",
      "\t[SUCCESSFUL ] software.amazon.awssdk#http-client-spi;2.17.178!http-client-spi.jar (316ms)\n",
      "downloading https://repo1.maven.org/maven2/org/reactivestreams/reactive-streams/1.0.3/reactive-streams-1.0.3.jar ...\n",
      "\t[SUCCESSFUL ] org.reactivestreams#reactive-streams;1.0.3!reactive-streams.jar (56ms)\n",
      "downloading https://repo1.maven.org/maven2/software/amazon/awssdk/metrics-spi/2.17.178/metrics-spi-2.17.178.jar ...\n",
      "\t[SUCCESSFUL ] software.amazon.awssdk#metrics-spi;2.17.178!metrics-spi.jar (171ms)\n",
      "downloading https://repo1.maven.org/maven2/org/slf4j/slf4j-api/2.0.7/slf4j-api-2.0.7.jar ...\n",
      "\t[SUCCESSFUL ] org.slf4j#slf4j-api;2.0.7!slf4j-api.jar (132ms)\n",
      "downloading https://repo1.maven.org/maven2/org/wildfly/openssl/wildfly-openssl/1.0.7.Final/wildfly-openssl-1.0.7.Final.jar ...\n",
      "\t[SUCCESSFUL ] org.wildfly.openssl#wildfly-openssl;1.0.7.Final!wildfly-openssl.jar (121ms)\n",
      ":: resolution report :: resolve 6762ms :: artifacts dl 128751ms\n",
      "\t:: modules in use:\n",
      "\tcom.amazonaws#aws-java-sdk-bundle;1.12.365 from central in [default]\n",
      "\torg.apache.hadoop#hadoop-aws;3.3.4 from central in [default]\n",
      "\torg.apache.iceberg#iceberg-spark-runtime-3.5_2.12;1.4.2 from central in [default]\n",
      "\torg.projectnessie.nessie-integrations#nessie-spark-extensions-3.5_2.12;0.83.1 from central in [default]\n",
      "\torg.reactivestreams#reactive-streams;1.0.3 from central in [default]\n",
      "\torg.slf4j#slf4j-api;2.0.7 from central in [default]\n",
      "\torg.slf4j#slf4j-simple;2.0.7 from central in [default]\n",
      "\torg.wildfly.openssl#wildfly-openssl;1.0.7.Final from central in [default]\n",
      "\tsoftware.amazon.awssdk#annotations;2.17.178 from central in [default]\n",
      "\tsoftware.amazon.awssdk#bundle;2.17.178 from central in [default]\n",
      "\tsoftware.amazon.awssdk#http-client-spi;2.17.178 from central in [default]\n",
      "\tsoftware.amazon.awssdk#metrics-spi;2.17.178 from central in [default]\n",
      "\tsoftware.amazon.awssdk#url-connection-client;2.17.178 from central in [default]\n",
      "\tsoftware.amazon.awssdk#utils;2.17.178 from central in [default]\n",
      "\tsoftware.amazon.eventstream#eventstream;1.0.1 from central in [default]\n",
      "\t:: evicted modules:\n",
      "\torg.slf4j#slf4j-api;1.7.30 by [org.slf4j#slf4j-api;2.0.7] in [default]\n",
      "\tcom.amazonaws#aws-java-sdk-bundle;1.12.262 by [com.amazonaws#aws-java-sdk-bundle;1.12.365] in [default]\n",
      "\t---------------------------------------------------------------------\n",
      "\t|                  |            modules            ||   artifacts   |\n",
      "\t|       conf       | number| search|dwnlded|evicted|| number|dwnlded|\n",
      "\t---------------------------------------------------------------------\n",
      "\t|      default     |   17  |   16  |   16  |   2   ||   15  |   15  |\n",
      "\t---------------------------------------------------------------------\n",
      ":: retrieving :: org.apache.spark#spark-submit-parent-1e2f21ef-4997-4db6-a580-0fe9efac10e2\n",
      "\tconfs: [default]\n",
      "\t15 artifacts copied, 0 already retrieved (672581kB/383ms)\n",
      "25/04/23 02:37:47 WARN NativeCodeLoader: Unable to load native-hadoop library for your platform... using builtin-java classes where applicable\n",
      "Setting default log level to \"WARN\".\n",
      "To adjust logging level use sc.setLogLevel(newLevel). For SparkR, use setLogLevel(newLevel).\n"
     ]
    },
    {
     "name": "stdout",
     "output_type": "stream",
     "text": [
      "Spark is up and running!\n"
     ]
    }
   ],
   "source": [
    "from pyspark.sql import SparkSession\n",
    "\n",
    "import sys\n",
    "sys.path.append(\"/workspace/seed\")\n",
    "\n",
    "from seed.iceberg_setup import conf\n",
    "\n",
    "spark: SparkSession = SparkSession.builder.config(conf=conf).getOrCreate()\n",
    "print(\"Spark is up and running!\")"
   ]
  },
  {
   "cell_type": "code",
   "execution_count": 3,
   "id": "992e7ab4",
   "metadata": {},
   "outputs": [
    {
     "name": "stdout",
     "output_type": "stream",
     "text": [
      "+---------+---------+-----------+\n",
      "|namespace|tableName|isTemporary|\n",
      "+---------+---------+-----------+\n",
      "|      dev|  flights|      false|\n",
      "|      dev|    names|      false|\n",
      "+---------+---------+-----------+\n",
      "\n"
     ]
    }
   ],
   "source": [
    "spark.sql(\"SHOW TABLES FROM nessie.dev;\").show()"
   ]
  },
  {
   "cell_type": "code",
   "execution_count": 4,
   "id": "7b625e77",
   "metadata": {},
   "outputs": [
    {
     "name": "stderr",
     "output_type": "stream",
     "text": [
      "SLF4J: Failed to load class \"org.slf4j.impl.StaticLoggerBinder\".\n",
      "SLF4J: Defaulting to no-operation (NOP) logger implementation\n",
      "SLF4J: See http://www.slf4j.org/codes.html#StaticLoggerBinder for further details.\n",
      "25/04/23 02:39:13 WARN NessieUtil: The Iceberg property 'gc.enabled' and/or 'write.metadata.delete-after-commit.enabled' is enabled on table 'dev.flights' in NessieCatalog. This will likely make data in other Nessie branches and tags and in earlier, historical Nessie commits inaccessible. The recommended setting for those properties is 'false'. Use the 'nessie-gc' tool for Nessie reference-aware garbage collection.\n"
     ]
    },
    {
     "name": "stdout",
     "output_type": "stream",
     "text": [
      "+-------+--------------------+-----------+-------+------------+------------+------------------+--------------------+--------------------+--------------------+----------------+--------------------+--------------------+------------+-------------+------------+-------------+--------------------+\n",
      "|content|           file_path|file_format|spec_id|   partition|record_count|file_size_in_bytes|        column_sizes|        value_counts|   null_value_counts|nan_value_counts|        lower_bounds|        upper_bounds|key_metadata|split_offsets|equality_ids|sort_order_id|    readable_metrics|\n",
      "+-------+--------------------+-----------+-------+------------+------------+------------------+--------------------+--------------------+--------------------+----------------+--------------------+--------------------+------------+-------------+------------+-------------+--------------------+\n",
      "|      0|s3a://lakehouse//...|    PARQUET|      0|{2006-02-28}|       15632|            115665|{1 -> 78, 2 -> 10...|{1 -> 15632, 2 ->...|{1 -> 0, 2 -> 0, ...|{6 -> 0, 7 -> 0}|{1 -> [97 33 00 0...|{1 -> [97 33 00 0...|        NULL|          [4]|        NULL|            0|{{18476, 15632, 0...|\n",
      "|      0|s3a://lakehouse//...|    PARQUET|      0|{2006-02-09}|       15959|            117318|{1 -> 78, 2 -> 10...|{1 -> 15959, 2 ->...|{1 -> 0, 2 -> 0, ...|{6 -> 0, 7 -> 0}|{1 -> [84 33 00 0...|{1 -> [84 33 00 0...|        NULL|          [4]|        NULL|            0|{{18798, 15959, 0...|\n",
      "|      0|s3a://lakehouse//...|    PARQUET|      0|{2006-01-24}|       18513|            133503|{1 -> 77, 2 -> 11...|{1 -> 18513, 2 ->...|{1 -> 0, 2 -> 0, ...|{6 -> 0, 7 -> 0}|{1 -> [74 33 00 0...|{1 -> [74 33 00 0...|        NULL|          [4]|        NULL|            0|{{21680, 18513, 0...|\n",
      "|      0|s3a://lakehouse//...|    PARQUET|      0|{2006-01-22}|       17816|            140867|{1 -> 78, 2 -> 17...|{1 -> 17816, 2 ->...|{1 -> 0, 2 -> 0, ...|{6 -> 0, 7 -> 0}|{1 -> [72 33 00 0...|{1 -> [72 33 00 0...|        NULL|          [4]|        NULL|            0|{{20931, 17816, 0...|\n",
      "|      0|s3a://lakehouse//...|    PARQUET|      0|{2006-02-12}|       12415|             99530|{1 -> 78, 2 -> 11...|{1 -> 12415, 2 ->...|{1 -> 0, 2 -> 0, ...|{6 -> 0, 7 -> 0}|{1 -> [87 33 00 0...|{1 -> [87 33 00 0...|        NULL|          [4]|        NULL|            0|{{14772, 12415, 0...|\n",
      "|      0|s3a://lakehouse//...|    PARQUET|      0|{2006-02-16}|       16603|            133790|{1 -> 78, 2 -> 16...|{1 -> 16603, 2 ->...|{1 -> 0, 2 -> 0, ...|{6 -> 0, 7 -> 0}|{1 -> [8B 33 00 0...|{1 -> [8B 33 00 0...|        NULL|          [4]|        NULL|            0|{{19598, 16603, 0...|\n",
      "|      0|s3a://lakehouse//...|    PARQUET|      0|{2006-01-20}|       19132|            143302|{1 -> 78, 2 -> 12...|{1 -> 19132, 2 ->...|{1 -> 0, 2 -> 0, ...|{6 -> 0, 7 -> 0}|{1 -> [70 33 00 0...|{1 -> [70 33 00 0...|        NULL|          [4]|        NULL|            0|{{22441, 19132, 0...|\n",
      "|      0|s3a://lakehouse//...|    PARQUET|      0|{2006-01-18}|       18055|            142653|{1 -> 78, 2 -> 16...|{1 -> 18055, 2 ->...|{1 -> 0, 2 -> 0, ...|{6 -> 0, 7 -> 0}|{1 -> [6E 33 00 0...|{1 -> [6E 33 00 0...|        NULL|          [4]|        NULL|            0|{{21177, 18055, 0...|\n",
      "|      0|s3a://lakehouse//...|    PARQUET|      0|{2006-02-14}|       15780|            116670|{1 -> 78, 2 -> 10...|{1 -> 15780, 2 ->...|{1 -> 0, 2 -> 0, ...|{6 -> 0, 7 -> 0}|{1 -> [89 33 00 0...|{1 -> [89 33 00 0...|        NULL|          [4]|        NULL|            0|{{18623, 15780, 0...|\n",
      "|      0|s3a://lakehouse//...|    PARQUET|      0|{2006-02-01}|       15208|            111738|{1 -> 78, 2 -> 95...|{1 -> 15208, 2 ->...|{1 -> 0, 2 -> 0, ...|{6 -> 0, 7 -> 0}|{1 -> [7C 33 00 0...|{1 -> [7C 33 00 0...|        NULL|          [4]|        NULL|            0|{{17970, 15208, 0...|\n",
      "|      0|s3a://lakehouse//...|    PARQUET|      0|{2006-02-03}|       15606|            126554|{1 -> 78, 2 -> 15...|{1 -> 15606, 2 ->...|{1 -> 0, 2 -> 0, ...|{6 -> 0, 7 -> 0}|{1 -> [7E 33 00 0...|{1 -> [7E 33 00 0...|        NULL|          [4]|        NULL|            0|{{18431, 15606, 0...|\n",
      "|      0|s3a://lakehouse//...|    PARQUET|      0|{2006-01-06}|       19553|            140622|{1 -> 78, 2 -> 12...|{1 -> 19553, 2 ->...|{1 -> 0, 2 -> 0, ...|{6 -> 0, 7 -> 0}|{1 -> [62 33 00 0...|{1 -> [62 33 00 0...|        NULL|          [4]|        NULL|            0|{{22869, 19553, 0...|\n",
      "|      0|s3a://lakehouse//...|    PARQUET|      0|{2006-01-29}|       18063|            136786|{1 -> 78, 2 -> 12...|{1 -> 18063, 2 ->...|{1 -> 0, 2 -> 0, ...|{6 -> 0, 7 -> 0}|{1 -> [79 33 00 0...|{1 -> [79 33 00 0...|        NULL|          [4]|        NULL|            0|{{21162, 18063, 0...|\n",
      "|      0|s3a://lakehouse//...|    PARQUET|      0|{2006-02-27}|       16188|            124862|{1 -> 78, 2 -> 11...|{1 -> 16188, 2 ->...|{1 -> 0, 2 -> 0, ...|{6 -> 0, 7 -> 0}|{1 -> [96 33 00 0...|{1 -> [96 33 00 0...|        NULL|          [4]|        NULL|            0|{{19130, 16188, 0...|\n",
      "|      0|s3a://lakehouse//...|    PARQUET|      0|{2006-01-31}|       18377|            132283|{1 -> 78, 2 -> 11...|{1 -> 18377, 2 ->...|{1 -> 0, 2 -> 0, ...|{6 -> 0, 7 -> 0}|{1 -> [7B 33 00 0...|{1 -> [7B 33 00 0...|        NULL|          [4]|        NULL|            0|{{21537, 18377, 0...|\n",
      "|      0|s3a://lakehouse//...|    PARQUET|      0|{2006-02-20}|       16341|            127011|{1 -> 78, 2 -> 12...|{1 -> 16341, 2 ->...|{1 -> 0, 2 -> 0, ...|{6 -> 0, 7 -> 0}|{1 -> [8F 33 00 0...|{1 -> [8F 33 00 0...|        NULL|          [4]|        NULL|            0|{{19295, 16341, 0...|\n",
      "|      0|s3a://lakehouse//...|    PARQUET|      0|{2006-02-11}|       12719|             98322|{1 -> 77, 2 -> 90...|{1 -> 12719, 2 ->...|{1 -> 0, 2 -> 0, ...|{6 -> 0, 7 -> 0}|{1 -> [86 33 00 0...|{1 -> [86 33 00 0...|        NULL|          [4]|        NULL|            0|{{15116, 12719, 0...|\n",
      "|      0|s3a://lakehouse//...|    PARQUET|      0|{2006-01-27}|       19391|            140265|{1 -> 78, 2 -> 12...|{1 -> 19391, 2 ->...|{1 -> 0, 2 -> 0, ...|{6 -> 0, 7 -> 0}|{1 -> [77 33 00 0...|{1 -> [77 33 00 0...|        NULL|          [4]|        NULL|            0|{{22669, 19391, 0...|\n",
      "|      0|s3a://lakehouse//...|    PARQUET|      0|{2006-02-15}|       16324|            120997|{1 -> 78, 2 -> 10...|{1 -> 16324, 2 ->...|{1 -> 0, 2 -> 0, ...|{6 -> 0, 7 -> 0}|{1 -> [8A 33 00 0...|{1 -> [8A 33 00 0...|        NULL|          [4]|        NULL|            0|{{19246, 16324, 0...|\n",
      "|      0|s3a://lakehouse//...|    PARQUET|      0|{2006-02-21}|       15987|            119247|{1 -> 78, 2 -> 11...|{1 -> 15987, 2 ->...|{1 -> 0, 2 -> 0, ...|{6 -> 0, 7 -> 0}|{1 -> [90 33 00 0...|{1 -> [90 33 00 0...|        NULL|          [4]|        NULL|            0|{{18873, 15987, 0...|\n",
      "+-------+--------------------+-----------+-------+------------+------------+------------------+--------------------+--------------------+--------------------+----------------+--------------------+--------------------+------------+-------------+------------+-------------+--------------------+\n",
      "only showing top 20 rows\n",
      "\n"
     ]
    },
    {
     "name": "stderr",
     "output_type": "stream",
     "text": [
      "                                                                                \r"
     ]
    }
   ],
   "source": [
    "spark.sql(\"SELECT * FROM nessie.dev.flights.files;\").show()"
   ]
  },
  {
   "cell_type": "code",
   "execution_count": 5,
   "id": "7f001fb2",
   "metadata": {},
   "outputs": [
    {
     "name": "stdout",
     "output_type": "stream",
     "text": [
      "+-------------------+--------------+--------+\n",
      "|table_size_in_bytes|num_partitions|num_rows|\n",
      "+-------------------+--------------+--------+\n",
      "|            7594125|            59| 1000000|\n",
      "+-------------------+--------------+--------+\n",
      "\n"
     ]
    }
   ],
   "source": [
    "spark.sql(\"\"\"\n",
    "    SELECT \n",
    "        SUM(file_size_in_bytes) AS table_size_in_bytes,\n",
    "        COUNT(partition) AS num_partitions,\n",
    "        SUM(record_count) AS num_rows\n",
    "    FROM nessie.dev.flights.files;\n",
    "\"\"\").show()"
   ]
  },
  {
   "cell_type": "code",
   "execution_count": null,
   "id": "6c6b485d",
   "metadata": {},
   "outputs": [],
   "source": [
    "spark.sql(\"\").show()"
   ]
  },
  {
   "cell_type": "code",
   "execution_count": null,
   "id": "7fd08f27",
   "metadata": {},
   "outputs": [],
   "source": [
    "spark.sql(\"\").show()"
   ]
  },
  {
   "cell_type": "code",
   "execution_count": null,
   "id": "499dad5f",
   "metadata": {},
   "outputs": [],
   "source": [
    "spark.sql(\"\").show()"
   ]
  },
  {
   "cell_type": "code",
   "execution_count": null,
   "id": "e8c28f74",
   "metadata": {},
   "outputs": [],
   "source": [
    "spark.sql(\"\").show()"
   ]
  },
  {
   "cell_type": "code",
   "execution_count": null,
   "id": "f494883d",
   "metadata": {},
   "outputs": [],
   "source": [
    "spark.sql(\"\").show()"
   ]
  },
  {
   "cell_type": "code",
   "execution_count": null,
   "id": "16483d14",
   "metadata": {},
   "outputs": [],
   "source": [
    "spark.sql(\"\").show()"
   ]
  },
  {
   "cell_type": "code",
   "execution_count": null,
   "id": "4e1d3b15",
   "metadata": {},
   "outputs": [],
   "source": [
    "spark.sql(\"\").show()"
   ]
  },
  {
   "cell_type": "code",
   "execution_count": null,
   "id": "b3b02303",
   "metadata": {},
   "outputs": [],
   "source": [
    "spark.sql(\"\").show()"
   ]
  },
  {
   "cell_type": "code",
   "execution_count": null,
   "id": "36c3ae52",
   "metadata": {},
   "outputs": [],
   "source": [
    "spark.sql(\"\").show()"
   ]
  },
  {
   "cell_type": "code",
   "execution_count": null,
   "id": "352d5d46",
   "metadata": {},
   "outputs": [],
   "source": [
    "spark.sql(\"\").show()"
   ]
  },
  {
   "cell_type": "code",
   "execution_count": null,
   "id": "56e7b33a",
   "metadata": {},
   "outputs": [],
   "source": [
    "spark.sql(\"\").show()"
   ]
  },
  {
   "cell_type": "code",
   "execution_count": null,
   "id": "eaa54636",
   "metadata": {},
   "outputs": [],
   "source": [
    "spark.sql(\"\").show()"
   ]
  }
 ],
 "metadata": {
  "kernelspec": {
   "display_name": "Python 3 (ipykernel)",
   "language": "python",
   "name": "python3"
  },
  "language_info": {
   "codemirror_mode": {
    "name": "ipython",
    "version": 3
   },
   "file_extension": ".py",
   "mimetype": "text/x-python",
   "name": "python",
   "nbconvert_exporter": "python",
   "pygments_lexer": "ipython3",
   "version": "3.10.12"
  }
 },
 "nbformat": 4,
 "nbformat_minor": 5
}
