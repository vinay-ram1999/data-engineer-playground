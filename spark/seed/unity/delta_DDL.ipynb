{
 "cells": [
  {
   "cell_type": "markdown",
   "id": "1f12c0e9",
   "metadata": {},
   "source": [
    "**Note:** This is a DDL notebook. Run this only once"
   ]
  },
  {
   "cell_type": "code",
   "execution_count": null,
   "id": "b3c77d34-e043-4381-83e6-993b70310013",
   "metadata": {},
   "outputs": [],
   "source": [
    "from pyspark.sql import SparkSession\n",
    "\n",
    "from seed.unity import conf\n",
    "\n",
    "spark: SparkSession = SparkSession.builder.config(conf=conf).getOrCreate()\n",
    "print(f\"Spark {spark.version} is up and running!\")"
   ]
  },
  {
   "cell_type": "code",
   "execution_count": null,
   "id": "d31b0a0b",
   "metadata": {},
   "outputs": [],
   "source": [
    "spark.sql(\"SHOW CATALOGS\").show()\n",
    "\n",
    "spark.sql(\"CREATE SCHEMA IF NOT EXISTS unity.dev\")\n",
    "\n",
    "spark.sql(\"SHOW SCHEMAS FROM unity\").show()"
   ]
  },
  {
   "cell_type": "code",
   "execution_count": null,
   "id": "3b95e836",
   "metadata": {},
   "outputs": [],
   "source": [
    "spark.sql(\"SHOW TABLES IN unity.default\").show()\n",
    "\n",
    "spark.sql(\"SHOW TABLES IN unity.dev\").show()\n",
    "\n",
    "# spark.sql(\"SELECT * FROM default.marksheet LIMIT 5;\").show()"
   ]
  },
  {
   "cell_type": "code",
   "execution_count": null,
   "id": "fe7fedf1",
   "metadata": {},
   "outputs": [],
   "source": [
    "spark.sql(\"\"\"\n",
    "    CREATE TABLE IF NOT EXISTS unity.dev.test (\n",
    "        name STRING\n",
    "    )\n",
    "    USING delta\n",
    "    LOCATION 's3a://unity/'\n",
    "\"\"\")\n",
    "\n",
    "spark.sql(\"INSERT INTO unity.dev.test VALUES ('test 1')\")\n",
    "spark.sql(\"INSERT INTO unity.dev.test VALUES ('test 2')\")\n",
    "\n",
    "spark.sql(\"SELECT * FROM unity.dev.test\").show()"
   ]
  },
  {
   "cell_type": "code",
   "execution_count": null,
   "id": "ab3143b4-0a1c-4905-ad08-fc20f35eed25",
   "metadata": {},
   "outputs": [],
   "source": [
    "# Read flights data from parquet file\n",
    "\n",
    "df = spark.read.parquet(\"s3a://seed/flights-1m.parquet\")\n",
    "df.show(5)\n",
    "\n",
    "df.printSchema()\n",
    "\n",
    "df.createOrReplaceTempView(\"raw_flights\")\n",
    "\n",
    "spark.sql(\"\"\"\n",
    "    SELECT\n",
    "        MIN(FL_DATE) AS min_date,\n",
    "        MAX(FL_DATE) AS max_date,\n",
    "        COUNT(*) AS num_rows\n",
    "    FROM raw_flights;\n",
    "\"\"\").show()\n",
    "\n",
    "spark.sql(\"\"\"\n",
    "    SELECT\n",
    "        FL_DATE,\n",
    "        COUNT(*) AS num_rows\n",
    "    FROM raw_flights\n",
    "    GROUP BY FL_DATE\n",
    "    ORDER BY FL_DATE\n",
    "    LIMIT 5;\n",
    "\"\"\").show()"
   ]
  },
  {
   "cell_type": "code",
   "execution_count": null,
   "id": "9a36ec30",
   "metadata": {},
   "outputs": [],
   "source": [
    "# Create flights table from parquet file\n",
    "\n",
    "spark.sql(\"\"\"\n",
    "    CREATE TABLE IF NOT EXISTS dev.flights\n",
    "    USING delta\n",
    "    LOCATION 's3a://iceberg/'\n",
    "    AS\n",
    "    SELECT\n",
    "        distance,\n",
    "        dep_time,\n",
    "        arr_time\n",
    "    FROM raw_flights;\n",
    "\"\"\")\n",
    "\n",
    "spark.sql(\"SELECT * FROM dev.flights LIMIT 5;\").show()"
   ]
  },
  {
   "cell_type": "code",
   "execution_count": null,
   "id": "d6b61df8",
   "metadata": {},
   "outputs": [],
   "source": [
    "spark.stop()"
   ]
  },
  {
   "cell_type": "code",
   "execution_count": null,
   "id": "3cf9c4a3",
   "metadata": {},
   "outputs": [],
   "source": []
  }
 ],
 "metadata": {
  "kernelspec": {
   "display_name": "Python 3 (ipykernel)",
   "language": "python",
   "name": "python3"
  },
  "language_info": {
   "codemirror_mode": {
    "name": "ipython",
    "version": 3
   },
   "file_extension": ".py",
   "mimetype": "text/x-python",
   "name": "python",
   "nbconvert_exporter": "python",
   "pygments_lexer": "ipython3",
   "version": "3.12.10"
  }
 },
 "nbformat": 4,
 "nbformat_minor": 5
}
