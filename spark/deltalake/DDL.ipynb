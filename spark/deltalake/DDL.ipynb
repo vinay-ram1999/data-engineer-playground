{
 "cells": [
  {
   "cell_type": "markdown",
   "id": "1f12c0e9",
   "metadata": {},
   "source": [
    "**Note:** This is a DDL notebook. Run this only once"
   ]
  },
  {
   "cell_type": "code",
   "execution_count": null,
   "id": "b3c77d34-e043-4381-83e6-993b70310013",
   "metadata": {},
   "outputs": [],
   "source": [
    "from pyspark.sql import SparkSession\n",
    "\n",
    "from seed.deltalake import conf\n",
    "\n",
    "spark: SparkSession = SparkSession.builder.config(conf=conf).getOrCreate()\n",
    "print(f\"Spark {spark.version} is up and running!\")"
   ]
  },
  {
   "cell_type": "code",
   "execution_count": null,
   "id": "e88e98a4",
   "metadata": {},
   "outputs": [
    {
     "name": "stderr",
     "output_type": "stream",
     "text": [
      "25/04/28 04:04:25 WARN JavaUtils: Attempt to delete using native Unix OS command failed for path = /tmp/spark-603d6bd3-2e63-4962-915e-57859ddf4e50/userFiles-1935a4d3-4fda-44f7-8c2a-45f70ba63975. Falling back to Java IO way\n",
      "java.io.IOException: Failed to delete: /tmp/spark-603d6bd3-2e63-4962-915e-57859ddf4e50/userFiles-1935a4d3-4fda-44f7-8c2a-45f70ba63975\n",
      "\tat org.apache.spark.network.util.JavaUtils.deleteRecursivelyUsingUnixNative(JavaUtils.java:174)\n",
      "\tat org.apache.spark.network.util.JavaUtils.deleteRecursively(JavaUtils.java:109)\n",
      "\tat org.apache.spark.network.util.JavaUtils.deleteRecursively(JavaUtils.java:90)\n",
      "\tat org.apache.spark.util.SparkFileUtils.deleteRecursively(SparkFileUtils.scala:121)\n",
      "\tat org.apache.spark.util.SparkFileUtils.deleteRecursively$(SparkFileUtils.scala:120)\n",
      "\tat org.apache.spark.util.Utils$.deleteRecursively(Utils.scala:1126)\n",
      "\tat org.apache.spark.SparkEnv.stop(SparkEnv.scala:108)\n",
      "\tat org.apache.spark.SparkContext.$anonfun$stop$25(SparkContext.scala:2305)\n",
      "\tat org.apache.spark.util.Utils$.tryLogNonFatalError(Utils.scala:1375)\n",
      "\tat org.apache.spark.SparkContext.stop(SparkContext.scala:2305)\n",
      "\tat org.apache.spark.SparkContext.stop(SparkContext.scala:2211)\n",
      "\tat org.apache.spark.SparkContext.$anonfun$new$34(SparkContext.scala:681)\n",
      "\tat org.apache.spark.util.SparkShutdownHook.run(ShutdownHookManager.scala:214)\n",
      "\tat org.apache.spark.util.SparkShutdownHookManager.$anonfun$runAll$2(ShutdownHookManager.scala:188)\n",
      "\tat scala.runtime.java8.JFunction0$mcV$sp.apply(JFunction0$mcV$sp.java:23)\n",
      "\tat org.apache.spark.util.Utils$.logUncaughtExceptions(Utils.scala:1928)\n",
      "\tat org.apache.spark.util.SparkShutdownHookManager.$anonfun$runAll$1(ShutdownHookManager.scala:188)\n",
      "\tat scala.runtime.java8.JFunction0$mcV$sp.apply(JFunction0$mcV$sp.java:23)\n",
      "\tat scala.util.Try$.apply(Try.scala:213)\n",
      "\tat org.apache.spark.util.SparkShutdownHookManager.runAll(ShutdownHookManager.scala:188)\n",
      "\tat org.apache.spark.util.SparkShutdownHookManager$$anon$2.run(ShutdownHookManager.scala:178)\n",
      "\tat java.base/java.util.concurrent.Executors$RunnableAdapter.call(Executors.java:515)\n",
      "\tat java.base/java.util.concurrent.FutureTask.run(FutureTask.java:264)\n",
      "\tat java.base/java.util.concurrent.ThreadPoolExecutor.runWorker(ThreadPoolExecutor.java:1128)\n",
      "\tat java.base/java.util.concurrent.ThreadPoolExecutor$Worker.run(ThreadPoolExecutor.java:628)\n",
      "\tat java.base/java.lang.Thread.run(Thread.java:829)\n"
     ]
    }
   ],
   "source": [
    "# Create a namespace in nessie catalog\n",
    "\n",
    "# spark.sql(\"DROP NAMESPACE IF EXISTS nessie.delta;\")\n",
    "\n",
    "spark.sql(\"CREATE NAMESPACE IF NOT EXISTS nessie.delta;\")\n",
    "\n",
    "spark.sql(\"SHOW NAMESPACES FROM nessie\").show()"
   ]
  },
  {
   "cell_type": "code",
   "execution_count": null,
   "id": "24fedce9",
   "metadata": {},
   "outputs": [],
   "source": [
    "# Create a test table in the namespace\n",
    "\n",
    "spark.sql(\"CREATE OR REPLACE TABLE nessie.delta.names (name STRING) USING iceberg TBLPROPERTIES ('gc.enabled' = 'true');\")\n",
    "\n",
    "spark.sql(\"INSERT INTO nessie.delta.names VALUES ('vinay');\")\n",
    "\n",
    "spark.sql(\"SELECT * FROM nessie.delta.names;\").show()\n",
    "\n",
    "spark.sql(\"SHOW TABLES FROM nessie;\").show()\n",
    "\n",
    "# spark.sql(\"DROP TABLE nessie.delta.names PURGE;\")"
   ]
  },
  {
   "cell_type": "code",
   "execution_count": null,
   "id": "ab3143b4-0a1c-4905-ad08-fc20f35eed25",
   "metadata": {},
   "outputs": [],
   "source": [
    "# Read flights data from parquet file\n",
    "\n",
    "df = spark.read.parquet(\"s3a://seed/flights-1m.parquet\")\n",
    "df.show(5)\n",
    "\n",
    "df.printSchema()\n",
    "\n",
    "df.createOrReplaceTempView(\"raw_flights\")\n",
    "\n",
    "spark.sql(\"\"\"\n",
    "    SELECT\n",
    "        MIN(FL_DATE) AS min_date,\n",
    "        MAX(FL_DATE) AS max_date,\n",
    "        COUNT(*) AS num_rows\n",
    "    FROM raw_flights;\n",
    "\"\"\").show()\n",
    "\n",
    "spark.sql(\"\"\"\n",
    "    SELECT\n",
    "        FL_DATE,\n",
    "        COUNT(*) AS num_rows\n",
    "    FROM raw_flights\n",
    "    GROUP BY FL_DATE\n",
    "    ORDER BY FL_DATE\n",
    "    LIMIT 10;\n",
    "\"\"\").show()"
   ]
  },
  {
   "cell_type": "code",
   "execution_count": null,
   "id": "e36fbfb6",
   "metadata": {},
   "outputs": [],
   "source": [
    "# Create flights table from parquet file\n",
    "\n",
    "spark.sql(\"\"\"\n",
    "    CREATE TABLE IF NOT EXISTS nessie.delta.flights \n",
    "    USING iceberg\n",
    "    PARTITIONED BY (fl_date)\n",
    "    TBLPROPERTIES ('gc.enabled' = 'true')\n",
    "    AS\n",
    "    SELECT\n",
    "        *\n",
    "    FROM raw_flights;\n",
    "\"\"\")\n",
    "\n",
    "spark.sql(\"SELECT * FROM nessie.delta.flights LIMIT 5;\").show()\n",
    "\n",
    "# spark.sql(\"DROP TABLE nessie.delta.flights PURGE;\")"
   ]
  },
  {
   "cell_type": "code",
   "execution_count": null,
   "id": "71448e9d",
   "metadata": {},
   "outputs": [],
   "source": []
  }
 ],
 "metadata": {
  "kernelspec": {
   "display_name": "Python 3 (ipykernel)",
   "language": "python",
   "name": "python3"
  },
  "language_info": {
   "codemirror_mode": {
    "name": "ipython",
    "version": 3
   },
   "file_extension": ".py",
   "mimetype": "text/x-python",
   "name": "python",
   "nbconvert_exporter": "python",
   "pygments_lexer": "ipython3",
   "version": "3.10.12"
  }
 },
 "nbformat": 4,
 "nbformat_minor": 5
}
