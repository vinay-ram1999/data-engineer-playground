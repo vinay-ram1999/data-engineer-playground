{
 "cells": [
  {
   "cell_type": "markdown",
   "id": "1f12c0e9",
   "metadata": {},
   "source": [
    "**Note:** This is a DDL notebook. Run this only once"
   ]
  },
  {
   "cell_type": "code",
   "execution_count": null,
   "id": "b3c77d34-e043-4381-83e6-993b70310013",
   "metadata": {},
   "outputs": [],
   "source": [
    "from pyspark.sql import SparkSession\n",
    "\n",
    "from seed.nessie import conf\n",
    "\n",
    "spark: SparkSession = SparkSession.builder.config(conf=conf).getOrCreate()\n",
    "print(f\"Spark {spark.version} is up and running!\")"
   ]
  },
  {
   "cell_type": "code",
   "execution_count": null,
   "id": "e88e98a4",
   "metadata": {},
   "outputs": [],
   "source": [
    "# Create a namespace in nessie catalog\n",
    "\n",
    "# spark.sql(\"DROP NAMESPACE IF EXISTS nessie.dev;\")\n",
    "\n",
    "spark.sql(\"CREATE NAMESPACE IF NOT EXISTS nessie.dev;\")\n",
    "\n",
    "spark.sql(\"SHOW NAMESPACES FROM nessie\").show()"
   ]
  },
  {
   "cell_type": "code",
   "execution_count": null,
   "id": "ab3143b4-0a1c-4905-ad08-fc20f35eed25",
   "metadata": {},
   "outputs": [],
   "source": [
    "# Read flights data from parquet file\n",
    "\n",
    "df = spark.read.parquet(\"s3a://seed/flights-1m.parquet\")\n",
    "df.show(5)\n",
    "\n",
    "df.printSchema()\n",
    "\n",
    "df.createOrReplaceTempView(\"raw_flights\")\n",
    "\n",
    "spark.sql(\"\"\"\n",
    "    SELECT\n",
    "        MIN(FL_DATE) AS min_date,\n",
    "        MAX(FL_DATE) AS max_date,\n",
    "        COUNT(*) AS num_rows\n",
    "    FROM raw_flights;\n",
    "\"\"\").show()\n",
    "\n",
    "spark.sql(\"\"\"\n",
    "    SELECT\n",
    "        FL_DATE,\n",
    "        COUNT(*) AS num_rows\n",
    "    FROM raw_flights\n",
    "    GROUP BY FL_DATE\n",
    "    ORDER BY FL_DATE\n",
    "    LIMIT 10;\n",
    "\"\"\").show()"
   ]
  },
  {
   "cell_type": "code",
   "execution_count": null,
   "id": "e36fbfb6",
   "metadata": {},
   "outputs": [],
   "source": [
    "# Create flights table from parquet file\n",
    "\n",
    "spark.sql(\"\"\"\n",
    "    CREATE TABLE IF NOT EXISTS nessie.dev.flights \n",
    "    USING iceberg\n",
    "    PARTITIONED BY (fl_date)\n",
    "    TBLPROPERTIES ('gc.enabled' = 'true')\n",
    "    AS\n",
    "    SELECT\n",
    "        *\n",
    "    FROM raw_flights;\n",
    "\"\"\")\n",
    "\n",
    "spark.sql(\"SELECT * FROM nessie.dev.flights LIMIT 5;\").show()\n",
    "\n",
    "# spark.sql(\"DROP TABLE nessie.dev.flights PURGE;\")"
   ]
  },
  {
   "cell_type": "code",
   "execution_count": null,
   "id": "589ed9d3",
   "metadata": {},
   "outputs": [],
   "source": []
  }
 ],
 "metadata": {
  "kernelspec": {
   "display_name": "Python 3 (ipykernel)",
   "language": "python",
   "name": "python3"
  },
  "language_info": {
   "codemirror_mode": {
    "name": "ipython",
    "version": 3
   },
   "file_extension": ".py",
   "mimetype": "text/x-python",
   "name": "python",
   "nbconvert_exporter": "python",
   "pygments_lexer": "ipython3",
   "version": "3.10.12"
  }
 },
 "nbformat": 4,
 "nbformat_minor": 5
}
